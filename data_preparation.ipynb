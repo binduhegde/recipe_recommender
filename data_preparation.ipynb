{
 "cells": [
  {
   "cell_type": "markdown",
   "id": "7b6edc41",
   "metadata": {},
   "source": [
    "<p style=\"background: linear-gradient(to right,#BF3131,white);\n",
    "          color: transparent;\n",
    "          font-family: Georgia;\n",
    "          color: white;\n",
    "          font-size: 120%;\n",
    "          text-align: left;\n",
    "          padding: 15px;\n",
    "          letter-spacing:1px;\">\n",
    "   Data Preparation Steps\n",
    "</p>"
   ]
  },
  {
   "cell_type": "markdown",
   "id": "b04e6403",
   "metadata": {},
   "source": [
    "1. [Concatenate all the DataFrames](#1)\n",
    "2. [Rename the column 'Unnamed: 0' to 'name'](#2)\n",
    "3. [Convert likes to float. Range 0-1](#3)\n",
    "4. [Convert time from string to int in minutes](#4)\n",
    "5. [Convert servings from string to int](#5)\n",
    "6. [Create calories, fat, carbs, fiber, sugar, protein from nutritions column](#6)\n",
    "7. [Create no of ingredients column 'no_ing'](#7)\n",
    "8. [Fill missing values in the 'time' column with the mode](#8)\n",
    "9. [Fill missing values in the columns calories, fat and carb using randomforest model predictions](#9)\n",
    "10. [Fill the missing values in the columns fiber, sugar and protein with the mode](#10)\n",
    "11. [Create binary columns contains_soy and contains_glutten to indicate the allergies](#11)\n",
    "12. [Create binary columns like fruits, vegs etc for main ingredients](#12) \n"
   ]
  },
  {
   "cell_type": "markdown",
   "id": "2dec3270",
   "metadata": {},
   "source": [
    "<a id='1'></a>\n",
    "<p style=\"background: linear-gradient(to right,#BF3131,white);\n",
    "          color: transparent;\n",
    "          font-family: Georgia;\n",
    "          color: white;\n",
    "          font-size: 120%;\n",
    "          text-align: left;\n",
    "          padding: 15px;\n",
    "          letter-spacing:1px;\">\n",
    "   Concatenating the Datasets\n",
    "</p>"
   ]
  },
  {
   "cell_type": "code",
   "execution_count": 1,
   "id": "904adc7c",
   "metadata": {},
   "outputs": [],
   "source": [
    "# importing all the necessary libraries\n",
    "\n",
    "import pandas as pd\n",
    "pd.set_option('display.max_columns', None)\n",
    "import numpy as np\n",
    "import matplotlib.pyplot as plt\n",
    "import seaborn as sns\n",
    "\n",
    "import re\n",
    "import warnings\n",
    "warnings.filterwarnings('ignore')"
   ]
  },
  {
   "cell_type": "code",
   "execution_count": 3,
   "id": "e0beb125",
   "metadata": {},
   "outputs": [],
   "source": [
    "# loading all the datasets\n",
    "df1 = pd.read_csv('recipes.csv')\n",
    "df2 = pd.read_csv('recipes2.csv')\n",
    "df3 = pd.read_csv('recipes3.csv')\n",
    "df4 = pd.read_csv('recipes4.csv')\n",
    "df5 = pd.read_csv('recipes5.csv')\n",
    "df6 = pd.read_csv('recipes6.csv')\n",
    "df7 = pd.read_csv('recipes7.csv')\n",
    "df8 = pd.read_csv('recipes8.csv')\n",
    "df9 = pd.read_csv('recipes9.csv')\n",
    "df10 = pd.read_csv('recipes10.csv')"
   ]
  },
  {
   "cell_type": "code",
   "execution_count": 5,
   "id": "e0577a3e",
   "metadata": {},
   "outputs": [
    {
     "data": {
      "text/plain": [
       "(1012, 7)"
      ]
     },
     "execution_count": 5,
     "metadata": {},
     "output_type": "execute_result"
    }
   ],
   "source": [
    "# combining all the datasets\n",
    "\n",
    "dfs = [df1, df2, df3, df4, df5, df6, df7, df8, df9, df10]\n",
    "\n",
    "df = pd.concat(dfs)\n",
    "\n",
    "df.shape"
   ]
  },
  {
   "cell_type": "code",
   "execution_count": 6,
   "id": "6d227ee2",
   "metadata": {},
   "outputs": [
    {
     "data": {
      "text/plain": [
       "Index(['Unnamed: 0', 'likes', 'time', 'servings', 'ingredients', 'nutritions',\n",
       "       'link'],\n",
       "      dtype='object')"
      ]
     },
     "execution_count": 6,
     "metadata": {},
     "output_type": "execute_result"
    }
   ],
   "source": [
    "df.columns"
   ]
  },
  {
   "cell_type": "code",
   "execution_count": 7,
   "id": "bb221ef4",
   "metadata": {},
   "outputs": [
    {
     "data": {
      "text/html": [
       "<div>\n",
       "<style scoped>\n",
       "    .dataframe tbody tr th:only-of-type {\n",
       "        vertical-align: middle;\n",
       "    }\n",
       "\n",
       "    .dataframe tbody tr th {\n",
       "        vertical-align: top;\n",
       "    }\n",
       "\n",
       "    .dataframe thead th {\n",
       "        text-align: right;\n",
       "    }\n",
       "</style>\n",
       "<table border=\"1\" class=\"dataframe\">\n",
       "  <thead>\n",
       "    <tr style=\"text-align: right;\">\n",
       "      <th></th>\n",
       "      <th>Unnamed: 0</th>\n",
       "      <th>likes</th>\n",
       "      <th>time</th>\n",
       "      <th>servings</th>\n",
       "      <th>ingredients</th>\n",
       "      <th>nutritions</th>\n",
       "      <th>link</th>\n",
       "    </tr>\n",
       "  </thead>\n",
       "  <tbody>\n",
       "    <tr>\n",
       "      <th>0</th>\n",
       "      <td>Whipped Coffee</td>\n",
       "      <td>92% WOULD MAKE AGAIN</td>\n",
       "      <td>15 minutes</td>\n",
       "      <td>for 1 serving</td>\n",
       "      <td>2 tablespoons hot water (28 g); 2 tablespoons ...</td>\n",
       "      <td>Calories 132\\nFat 0g\\nCarbs 28g\\nFiber 0g\\nSug...</td>\n",
       "      <td>https://tasty.co/recipe/whipped-coffee</td>\n",
       "    </tr>\n",
       "    <tr>\n",
       "      <th>1</th>\n",
       "      <td>Ratatouille</td>\n",
       "      <td>95% WOULD MAKE AGAIN</td>\n",
       "      <td>Total Time\\n1 hr 35 min\\nPrep Time\\n20 minutes...</td>\n",
       "      <td>for 8 servings</td>\n",
       "      <td>2 eggplants; 6 roma tomatoes; 2 yellow squashe...</td>\n",
       "      <td>Calories 118\\nFat 3g\\nCarbs 22g\\nFiber 5g\\nSug...</td>\n",
       "      <td>https://tasty.co/recipe/ratatouille</td>\n",
       "    </tr>\n",
       "    <tr>\n",
       "      <th>2</th>\n",
       "      <td>Homemade Dutch Oven Bread</td>\n",
       "      <td>98% WOULD MAKE AGAIN</td>\n",
       "      <td>NaN</td>\n",
       "      <td>for 8 servings</td>\n",
       "      <td>2 cups lukewarm water (480 mL), between 90˚-11...</td>\n",
       "      <td>Calories 259\\nFat 0g\\nCarbs 54g\\nFiber 1g\\nSug...</td>\n",
       "      <td>https://tasty.co/recipe/homemade-dutch-oven-bread</td>\n",
       "    </tr>\n",
       "  </tbody>\n",
       "</table>\n",
       "</div>"
      ],
      "text/plain": [
       "                  Unnamed: 0                 likes  \\\n",
       "0             Whipped Coffee  92% WOULD MAKE AGAIN   \n",
       "1                Ratatouille  95% WOULD MAKE AGAIN   \n",
       "2  Homemade Dutch Oven Bread  98% WOULD MAKE AGAIN   \n",
       "\n",
       "                                                time        servings  \\\n",
       "0                                         15 minutes   for 1 serving   \n",
       "1  Total Time\\n1 hr 35 min\\nPrep Time\\n20 minutes...  for 8 servings   \n",
       "2                                                NaN  for 8 servings   \n",
       "\n",
       "                                         ingredients  \\\n",
       "0  2 tablespoons hot water (28 g); 2 tablespoons ...   \n",
       "1  2 eggplants; 6 roma tomatoes; 2 yellow squashe...   \n",
       "2  2 cups lukewarm water (480 mL), between 90˚-11...   \n",
       "\n",
       "                                          nutritions  \\\n",
       "0  Calories 132\\nFat 0g\\nCarbs 28g\\nFiber 0g\\nSug...   \n",
       "1  Calories 118\\nFat 3g\\nCarbs 22g\\nFiber 5g\\nSug...   \n",
       "2  Calories 259\\nFat 0g\\nCarbs 54g\\nFiber 1g\\nSug...   \n",
       "\n",
       "                                                link  \n",
       "0             https://tasty.co/recipe/whipped-coffee  \n",
       "1                https://tasty.co/recipe/ratatouille  \n",
       "2  https://tasty.co/recipe/homemade-dutch-oven-bread  "
      ]
     },
     "execution_count": 7,
     "metadata": {},
     "output_type": "execute_result"
    }
   ],
   "source": [
    "df.head(3)"
   ]
  },
  {
   "cell_type": "markdown",
   "id": "5f046abe",
   "metadata": {},
   "source": [
    "<a id='2'></a>\n",
    "<p style=\"background: linear-gradient(to right,#BF3131,white);\n",
    "          color: transparent;\n",
    "          font-family: Georgia;\n",
    "          color: white;\n",
    "          font-size: 120%;\n",
    "          text-align: left;\n",
    "          padding: 15px;\n",
    "          letter-spacing:1px;\">\n",
    "   Rename the columns\n",
    "</p>"
   ]
  },
  {
   "cell_type": "code",
   "execution_count": 8,
   "id": "a502f2e1",
   "metadata": {},
   "outputs": [
    {
     "data": {
      "text/plain": [
       "Index(['name', 'likes', 'time', 'servings', 'ingredients', 'nutritions',\n",
       "       'link'],\n",
       "      dtype='object')"
      ]
     },
     "execution_count": 8,
     "metadata": {},
     "output_type": "execute_result"
    }
   ],
   "source": [
    "# renaming the Unnamed: 0 column to name\n",
    "df.rename(columns={'Unnamed: 0': 'name'}, inplace=True)\n",
    "df.columns"
   ]
  },
  {
   "cell_type": "code",
   "execution_count": 12,
   "id": "4387cc72",
   "metadata": {},
   "outputs": [],
   "source": [
    "\n",
    "# Drop rows where all columns except 'link' have missing values\n",
    "df.dropna(subset=df.columns.difference(['link']), how='all', inplace=True)"
   ]
  },
  {
   "cell_type": "code",
   "execution_count": 13,
   "id": "57d2ece1",
   "metadata": {},
   "outputs": [
    {
     "data": {
      "text/plain": [
       "(1008, 7)"
      ]
     },
     "execution_count": 13,
     "metadata": {},
     "output_type": "execute_result"
    }
   ],
   "source": [
    "df.shape"
   ]
  },
  {
   "cell_type": "markdown",
   "id": "817df5a7",
   "metadata": {},
   "source": [
    "<a id='3'></a>\n",
    "<p style=\"background: linear-gradient(to right,#BF3131,white);\n",
    "          color: transparent;\n",
    "          font-family: Georgia;\n",
    "          color: white;\n",
    "          font-size: 120%;\n",
    "          text-align: left;\n",
    "          padding: 15px;\n",
    "          letter-spacing:1px;\">\n",
    "   Convert 'likes' from string to float\n",
    "</p>"
   ]
  },
  {
   "cell_type": "code",
   "execution_count": 9,
   "id": "7edf5096",
   "metadata": {},
   "outputs": [
    {
     "data": {
      "text/plain": [
       "array(['92% WOULD MAKE AGAIN', '95% WOULD MAKE AGAIN',\n",
       "       '98% WOULD MAKE AGAIN', '93% WOULD MAKE AGAIN',\n",
       "       '97% WOULD MAKE AGAIN', '96% WOULD MAKE AGAIN',\n",
       "       '88% WOULD MAKE AGAIN', '89% WOULD MAKE AGAIN',\n",
       "       '94% WOULD MAKE AGAIN', '87% WOULD MAKE AGAIN',\n",
       "       '85% WOULD MAKE AGAIN', '99% WOULD MAKE AGAIN',\n",
       "       '91% WOULD MAKE AGAIN', '90% WOULD MAKE AGAIN',\n",
       "       '76% WOULD MAKE AGAIN', '74% WOULD MAKE AGAIN',\n",
       "       '86% WOULD MAKE AGAIN', '75% WOULD MAKE AGAIN',\n",
       "       '84% WOULD MAKE AGAIN', '79% WOULD MAKE AGAIN',\n",
       "       '81% WOULD MAKE AGAIN', '80% WOULD MAKE AGAIN',\n",
       "       '83% WOULD MAKE AGAIN', '82% WOULD MAKE AGAIN',\n",
       "       '54% WOULD MAKE AGAIN', '71% WOULD MAKE AGAIN',\n",
       "       '78% WOULD MAKE AGAIN', '58% WOULD MAKE AGAIN',\n",
       "       '73% WOULD MAKE AGAIN', '22% WOULD MAKE AGAIN',\n",
       "       '70% WOULD MAKE AGAIN', '68% WOULD MAKE AGAIN',\n",
       "       '24% WOULD MAKE AGAIN', '59% WOULD MAKE AGAIN',\n",
       "       '51% WOULD MAKE AGAIN', '36% WOULD MAKE AGAIN',\n",
       "       '67% WOULD MAKE AGAIN', '72% WOULD MAKE AGAIN',\n",
       "       '77% WOULD MAKE AGAIN', '65% WOULD MAKE AGAIN',\n",
       "       '64% WOULD MAKE AGAIN', nan, '57% WOULD MAKE AGAIN',\n",
       "       '50% WOULD MAKE AGAIN', '63% WOULD MAKE AGAIN',\n",
       "       '66% WOULD MAKE AGAIN', '44% WOULD MAKE AGAIN',\n",
       "       '20% WOULD MAKE AGAIN', '61% WOULD MAKE AGAIN',\n",
       "       '100% WOULD MAKE AGAIN', '69% WOULD MAKE AGAIN',\n",
       "       '62% WOULD MAKE AGAIN', '31% WOULD MAKE AGAIN',\n",
       "       '38% WOULD MAKE AGAIN', '42% WOULD MAKE AGAIN',\n",
       "       '56% WOULD MAKE AGAIN', '17% WOULD MAKE AGAIN'], dtype=object)"
      ]
     },
     "execution_count": 9,
     "metadata": {},
     "output_type": "execute_result"
    }
   ],
   "source": [
    "df['likes'].unique()"
   ]
  },
  {
   "cell_type": "markdown",
   "id": "40628bf5",
   "metadata": {},
   "source": [
    "Every item start with a 2 digit number. So we extract those two digits and divide them by 100 to get the rate of people who like it"
   ]
  },
  {
   "cell_type": "code",
   "execution_count": 17,
   "id": "86f49ee0",
   "metadata": {},
   "outputs": [],
   "source": [
    "def get_likes(string):\n",
    "    if pd.isnull(string):  # Check if the value is NaN\n",
    "        return None\n",
    "    return int(string[:2])/100"
   ]
  },
  {
   "cell_type": "code",
   "execution_count": 18,
   "id": "1d5032a6",
   "metadata": {},
   "outputs": [
    {
     "data": {
      "text/plain": [
       "0    0.92\n",
       "1    0.95\n",
       "2    0.98\n",
       "3    0.93\n",
       "4    0.93\n",
       "Name: likes, dtype: float64"
      ]
     },
     "execution_count": 18,
     "metadata": {},
     "output_type": "execute_result"
    }
   ],
   "source": [
    "df['likes'] = df['likes'].apply(get_likes)\n",
    "df['likes'].head()"
   ]
  },
  {
   "cell_type": "code",
   "execution_count": 19,
   "id": "262d3a01",
   "metadata": {
    "collapsed": true
   },
   "outputs": [
    {
     "data": {
      "text/plain": [
       "array(['15 minutes',\n",
       "       'Total Time\\n1 hr 35 min\\nPrep Time\\n20 minutes\\nCook Time\\n1 hr 15 min',\n",
       "       nan, 'Under 30 minutes', '25 minutes',\n",
       "       'Total Time\\n45 minutes\\nPrep Time\\n30 minutes\\nCook Time\\n15 minutes',\n",
       "       '10 minutes',\n",
       "       'Total Time\\n40 minutes\\nPrep Time\\n5 minutes\\nCook Time\\n30 minutes',\n",
       "       'Total Time\\n1 hr 15 min\\nPrep Time\\n20 minutes\\nCook Time\\n55 minutes',\n",
       "       '1 hr 10 min',\n",
       "       'Total Time\\n20 minutes\\nPrep Time\\n5 minutes\\nCook Time\\n15 minutes',\n",
       "       'Total Time\\n18 hr\\nPrep Time\\n20 minutes\\nCook Time\\n1 hr 30 min',\n",
       "       'Total Time\\n12 hr 25 min\\nPrep Time\\n5 minutes\\nCook Time\\n20 minutes',\n",
       "       'Total Time\\n14 hr 57 min\\nPrep Time\\n20 minutes\\nCook Time\\n37 minutes',\n",
       "       '1 hr 20 min',\n",
       "       'Total Time\\n1 hr 5 min\\nPrep Time\\n10 minutes\\nCook Time\\n25 minutes',\n",
       "       'Total Time\\n2 hr\\nPrep Time\\n30 minutes\\nCook Time\\n1 hr 30 min',\n",
       "       'Total Time\\n10 minutes\\nPrep Time\\n5 minutes\\nCook Time\\n5 minutes',\n",
       "       '5 minutes',\n",
       "       'Total Time\\n1 hr 5 min\\nPrep Time\\n20 minutes\\nCook Time\\n45 minutes',\n",
       "       'Total Time\\n1 hr\\nPrep Time\\n15 minutes\\nCook Time\\n45 minutes',\n",
       "       'Total Time\\n6 hr 20 min\\nPrep Time\\n5 minutes\\nCook Time\\n15 minutes',\n",
       "       'Total Time\\n4 hr 5 min\\nPrep Time\\n5 minutes\\nCook Time\\n4 hr',\n",
       "       'Total Time\\n1 hr 55 min\\nPrep Time\\n20 minutes\\nCook Time\\n1 hr 35 min',\n",
       "       'Total Time\\n40 minutes\\nPrep Time\\n10 minutes\\nCook Time\\n30 minutes',\n",
       "       '6 hr 15 min',\n",
       "       'Total Time\\n7 minutes\\nPrep Time\\n5 minutes\\nCook Time\\n2 minutes',\n",
       "       'Total Time\\n4 hr\\nPrep Time\\n10 minutes\\nCook Time\\n1 hr 20 min',\n",
       "       'Total Time\\n3 hr 40 min\\nPrep Time\\n10 minutes\\nCook Time\\n1 hr',\n",
       "       'Total Time\\n30 minutes\\nPrep Time\\n5 minutes\\nCook Time\\n30 minutes',\n",
       "       'Total Time\\n1 hr 45 min\\nPrep Time\\n20 minutes\\nCook Time\\n25 minutes',\n",
       "       'Total Time\\n25 minutes\\nPrep Time\\n5 minutes\\nCook Time\\n10 minutes',\n",
       "       'Total Time\\n4 hr 25 min\\nPrep Time\\n10 minutes\\nCook Time\\n1 hr 15 min',\n",
       "       'Total Time\\n30 minutes\\nPrep Time\\n10 minutes\\nCook Time\\n20 minutes',\n",
       "       '30 minutes',\n",
       "       'Total Time\\n25 minutes\\nPrep Time\\n10 minutes\\nCook Time\\n5 minutes',\n",
       "       'Total Time\\n40 minutes\\nPrep Time\\n20 minutes\\nCook Time\\n10 minutes',\n",
       "       '45 minutes',\n",
       "       'Total Time\\n3 hr 30 min\\nPrep Time\\n30 minutes\\nCook Time\\n55 minutes',\n",
       "       'Total Time\\n30 minutes\\nPrep Time\\n5 minutes\\nCook Time\\n25 minutes',\n",
       "       'Total Time\\n4 hr 15 min\\nPrep Time\\n20 minutes\\nCook Time\\n1 hr 25 min',\n",
       "       'Total Time\\n22 minutes\\nPrep Time\\n20 minutes\\nCook Time\\n2 minutes',\n",
       "       'Total Time\\n35 minutes\\nPrep Time\\n5 minutes\\nCook Time\\n25 minutes',\n",
       "       'Total Time\\n5 hr 30 min\\nPrep Time\\n30 minutes\\nCook Time\\n2 hr 10 min',\n",
       "       'Total Time\\n2 hr 20 min\\nPrep Time\\n2 hr\\nCook Time\\n20 minutes',\n",
       "       'Total Time\\n39 minutes\\nPrep Time\\n30 minutes\\nCook Time\\n9 minutes',\n",
       "       'Total Time\\n2 hr 20 min\\nPrep Time\\n10 minutes\\nCook Time\\n1 hr 30 min',\n",
       "       'Total Time\\n2 hr 10 min\\nPrep Time\\n20 minutes\\nCook Time\\n20 minutes',\n",
       "       '20 minutes',\n",
       "       'Total Time\\n35 minutes\\nPrep Time\\n20 minutes\\nCook Time\\n10 minutes',\n",
       "       'Total Time\\n4 hr 50 min\\nPrep Time\\n15 minutes\\nCook Time\\n35 minutes',\n",
       "       'Total Time\\n35 minutes\\nPrep Time\\n20 minutes\\nCook Time\\n15 minutes',\n",
       "       'Total Time\\n50 minutes\\nPrep Time\\n15 minutes\\nCook Time\\n35 minutes',\n",
       "       'Total Time\\n18 minutes\\nPrep Time\\n5 minutes\\nCook Time\\n13 minutes',\n",
       "       'Total Time\\n2 hr 50 min\\nPrep Time\\n10 minutes\\nCook Time\\n1 hr 30 min',\n",
       "       'Total Time\\n16 minutes\\nPrep Time\\n10 minutes\\nCook Time\\n6 minutes',\n",
       "       'Total Time\\n40 minutes\\nPrep Time\\n30 minutes\\nCook Time\\n10 minutes',\n",
       "       'Total Time\\n35 minutes\\nPrep Time\\n5 minutes\\nCook Time\\n30 minutes',\n",
       "       'Total Time\\n45 minutes\\nPrep Time\\n15 minutes\\nCook Time\\n30 minutes',\n",
       "       'Total Time\\n50 minutes\\nPrep Time\\n5 minutes\\nCook Time\\n45 minutes',\n",
       "       'Total Time\\n1 hr 50 min\\nPrep Time\\n25 minutes\\nCook Time\\n25 minutes',\n",
       "       'Total Time\\n2 hr 10 min\\nPrep Time\\n5 minutes\\nCook Time\\n1 hr 20 min',\n",
       "       'Total Time\\n6 hr 15 min\\nPrep Time\\n15 minutes\\nCook Time\\n6 hr',\n",
       "       'Total Time\\n50 minutes\\nPrep Time\\n20 minutes\\nCook Time\\n30 minutes',\n",
       "       'Total Time\\n20 minutes\\nPrep Time\\n5 minutes\\nCook Time\\n5 minutes',\n",
       "       'Total Time\\n1 hr 25 min\\nPrep Time\\n20 minutes\\nCook Time\\n1 hr 5 min',\n",
       "       'Total Time\\n30 minutes\\nPrep Time\\n15 minutes\\nCook Time\\n15 minutes',\n",
       "       'Total Time\\n1 hr 15 min\\nPrep Time\\n10 minutes\\nCook Time\\n35 minutes',\n",
       "       'Total Time\\n1 hr\\nPrep Time\\n20 minutes\\nCook Time\\n20 minutes',\n",
       "       'Total Time\\n20 minutes\\nPrep Time\\n10 minutes\\nCook Time\\n10 minutes',\n",
       "       'Total Time\\n2 hr 15 min\\nPrep Time\\n10 minutes\\nCook Time\\n5 minutes',\n",
       "       'Total Time\\n2 hr 15 min\\nPrep Time\\n5 minutes\\nCook Time\\n1 hr 20 min',\n",
       "       'Total Time\\n18 hr 10 min\\nPrep Time\\n3 hr\\nCook Time\\n10 minutes',\n",
       "       'Total Time\\n9 hr 20 min\\nPrep Time\\n20 minutes\\nCook Time\\n18 hr',\n",
       "       'Total Time\\n3 hr\\nPrep Time\\n25 minutes\\nCook Time\\n35 minutes',\n",
       "       'Total Time\\n3 hr 5 min\\nPrep Time\\n5 minutes\\nCook Time\\n3 hr',\n",
       "       'Total Time\\n45 minutes\\nPrep Time\\n25 minutes\\nCook Time\\n20 minutes',\n",
       "       'Total Time\\n35 minutes\\nPrep Time\\n15 minutes\\nCook Time\\n10 minutes',\n",
       "       'Total Time\\n30 minutes\\nPrep Time\\n20 minutes\\nCook Time\\n10 minutes',\n",
       "       'Total Time\\n1 hr 15 min\\nPrep Time\\n10 minutes\\nCook Time\\n1 hr',\n",
       "       'Total Time\\n20 minutes\\nPrep Time\\n5 minutes\\nCook Time\\n10 minutes',\n",
       "       'Total Time\\n20 minutes\\nPrep Time\\n10 minutes\\nCook Time\\n5 minutes',\n",
       "       '4 hr 20 min',\n",
       "       'Total Time\\n1 hr 15 min\\nPrep Time\\n5 minutes\\nCook Time\\n10 minutes',\n",
       "       'Total Time\\n1 hr 5 min\\nPrep Time\\n10 minutes\\nCook Time\\n10 minutes',\n",
       "       'Total Time\\n25 minutes\\nPrep Time\\n15 minutes\\nCook Time\\n10 minutes',\n",
       "       'Total Time\\n1 hr 20 min\\nPrep Time\\n1 hr\\nCook Time\\n20 minutes',\n",
       "       'Total Time\\n40 minutes\\nPrep Time\\n25 minutes\\nCook Time\\n10 minutes',\n",
       "       'Total Time\\n2 hr 50 min\\nPrep Time\\n25 minutes\\nCook Time\\n25 minutes',\n",
       "       'Total Time\\n35 minutes\\nPrep Time\\n15 minutes\\nCook Time\\n20 minutes',\n",
       "       'Total Time\\n1 hr 15 min\\nPrep Time\\n10 minutes\\nCook Time\\n40 minutes',\n",
       "       'Total Time\\n30 minutes\\nPrep Time\\n5 minutes\\nCook Time\\n10 minutes',\n",
       "       'Total Time\\n50 minutes\\nPrep Time\\n10 minutes\\nCook Time\\n40 minutes',\n",
       "       'Total Time\\n1 hr 35 min\\nPrep Time\\n25 minutes\\nCook Time\\n1 hr 10 min',\n",
       "       'Total Time\\n20 minutes\\nPrep Time\\n15 minutes\\nCook Time\\n5 minutes',\n",
       "       'Total Time\\n5 hr\\nPrep Time\\n30 minutes\\nCook Time\\n2 hr 10 min',\n",
       "       'Total Time\\n1 hr 30 min\\nPrep Time\\n15 minutes\\nCook Time\\n45 minutes',\n",
       "       '8 minutes',\n",
       "       'Total Time\\n3 hr 15 min\\nPrep Time\\n1 hr 30 min\\nCook Time\\n1 hr 15 min',\n",
       "       'Total Time\\n4 hr 45 min\\nPrep Time\\n15 minutes\\nCook Time\\n30 minutes',\n",
       "       'Total Time\\n2 hr 25 min\\nPrep Time\\n25 minutes\\nCook Time\\n20 minutes',\n",
       "       'Total Time\\n55 minutes\\nPrep Time\\n10 minutes\\nCook Time\\n25 minutes',\n",
       "       'Total Time\\n33 minutes\\nPrep Time\\n5 minutes\\nCook Time\\n23 minutes',\n",
       "       'Total Time\\n1 hr 10 min\\nPrep Time\\n25 minutes\\nCook Time\\n35 minutes',\n",
       "       'Total Time\\n25 minutes\\nPrep Time\\n5 minutes\\nCook Time\\n20 minutes',\n",
       "       'Total Time\\n27 minutes\\nPrep Time\\n5 minutes\\nCook Time\\n22 minutes',\n",
       "       'Total Time\\n2 hr 5 min\\nPrep Time\\n15 minutes\\nCook Time\\n35 minutes',\n",
       "       'Total Time\\n1 hr 45 min\\nPrep Time\\n10 minutes\\nCook Time\\n20 minutes',\n",
       "       'Total Time\\n1 hr 20 min\\nPrep Time\\n5 minutes\\nCook Time\\n1 minute',\n",
       "       'Total Time\\n1 hr 15 min\\nPrep Time\\n30 minutes\\nCook Time\\n15 minutes',\n",
       "       'Total Time\\n2 hr 28 min\\nPrep Time\\n38 minutes\\nCook Time\\n1 hr 40 min',\n",
       "       'Total Time\\n5 minutes\\nPrep Time\\n5 minutes\\nCook Time\\n5 minutes',\n",
       "       'Total Time\\n2 hr\\nPrep Time\\n10 minutes\\nCook Time\\n3 minutes',\n",
       "       'Total Time\\n22 minutes\\nPrep Time\\n10 minutes\\nCook Time\\n12 minutes',\n",
       "       'Total Time\\n1 hr 31 min\\nPrep Time\\n1 hr 25 min\\nCook Time\\n6 minutes',\n",
       "       'Total Time\\n1 hr 25 min\\nPrep Time\\n15 minutes\\nCook Time\\n1 hr 10 min',\n",
       "       'Total Time\\n15 minutes\\nPrep Time\\n5 minutes\\nCook Time\\n10 minutes',\n",
       "       'Total Time\\n13 hr\\nPrep Time\\n10 minutes\\nCook Time\\n50 minutes',\n",
       "       'Total Time\\n45 minutes\\nPrep Time\\n20 minutes\\nCook Time\\n25 minutes',\n",
       "       'Total Time\\n30 minutes\\nPrep Time\\n15 minutes\\nCook Time\\n10 minutes',\n",
       "       '40 minutes',\n",
       "       'Total Time\\n5 hr 32 min\\nPrep Time\\n25 minutes\\nCook Time\\n1 hr 12 min',\n",
       "       'Total Time\\n28 minutes\\nPrep Time\\n20 minutes\\nCook Time\\n5 minutes'],\n",
       "      dtype=object)"
      ]
     },
     "execution_count": 19,
     "metadata": {},
     "output_type": "execute_result"
    }
   ],
   "source": [
    "df['time'].unique()"
   ]
  },
  {
   "cell_type": "markdown",
   "id": "93eb476e",
   "metadata": {},
   "source": [
    "This is a little challenging because some recipes require like 1 hr 5 min. We can't just extract the first number and assume it's in minutes. Hence the following function"
   ]
  },
  {
   "cell_type": "code",
   "execution_count": 20,
   "id": "d50cb718",
   "metadata": {},
   "outputs": [],
   "source": [
    "def get_time_minutes(time_str):\n",
    "    if pd.isnull(time_str):  # Check if the value is NaN\n",
    "        return None\n",
    "    # Define regular expression pattern to match numbers\n",
    "    pattern = r'\\b\\d+\\b'\n",
    "\n",
    "    # Find all numbers in the string\n",
    "    numbers = re.findall(pattern, time_str)\n",
    "\n",
    "    # Convert numbers to integers and sum them up\n",
    "    total_minutes = sum(int(num) for num in numbers)\n",
    "\n",
    "    return total_minutes\n"
   ]
  },
  {
   "cell_type": "code",
   "execution_count": 21,
   "id": "d9a6f591",
   "metadata": {},
   "outputs": [
    {
     "data": {
      "text/plain": [
       "0    15.0\n",
       "1    72.0\n",
       "2     NaN\n",
       "3    30.0\n",
       "4     NaN\n",
       "Name: time, dtype: float64"
      ]
     },
     "execution_count": 21,
     "metadata": {},
     "output_type": "execute_result"
    }
   ],
   "source": [
    "df['time'] = df['time'].apply(get_time_minutes)\n",
    "\n",
    "df['time'].head()"
   ]
  },
  {
   "cell_type": "code",
   "execution_count": 22,
   "id": "ff6e69de",
   "metadata": {
    "collapsed": true
   },
   "outputs": [
    {
     "data": {
      "text/plain": [
       "array(['for 1 serving', 'for 8 servings', 'for 4 servings',\n",
       "       'for 2 servings', 'for 6 servings', 'for 10 servings',\n",
       "       'for 8 cookies', 'for 2 pancakes', 'for 5 servings',\n",
       "       'for 3 servings', 'for 8 serving', 'for 2 cups', 'for 9 servings',\n",
       "       'for 2 serving', 'for 24 bars', 'for 4 serving', 'for 12 servings',\n",
       "       'for 12 balls', 'for 13 cookies', 'for 10 cups', 'for 16 servings',\n",
       "       'for 15 bites', 'for 12 doughnuts', 'for 20 servings',\n",
       "       'for 6 popsicles', 'for 8 skewers', 'for 24 pot stickers',\n",
       "       'for 6 donuts', 'for 1 loaf', 'for 4 skewers', 'for 2 tacos',\n",
       "       'for 20 bars', 'for 12 cupcakes', 'for 22 rice balls',\n",
       "       'for 10 cupcakes', 'for 8 cups', 'for 6 cups',\n",
       "       'for 12 Pizza Bagels', 'for 4 bowls', 'for 16 bars',\n",
       "       'for 16 falafels', 'for 1 cup', 'for 14 tacos', 'for 20 pieces',\n",
       "       'for 5 sandwiches', 'for 4 shots', 'for 25 pieces',\n",
       "       'for 24 servings', 'for 6 ice pops', 'for 4 pancakes',\n",
       "       'for 12 bars', 'for 1 cake', 'for 6 wedges', 'for 10 links',\n",
       "       'for 40 truffles', 'for 20 rings', 'for 12 eggs', 'for 12 donuts',\n",
       "       'for 2 SERVINGS', 'for 1 Servings', 'for 2 smoothies',\n",
       "       'for 1 bell pepper pumpkin', 'for 16 pieces', 'for 3 rolls',\n",
       "       'for 6 balls', 'for 10 bites', 'for 24 shots', 'for 6 tacos',\n",
       "       'for 4 monster mouths', 'for 12 cups', 'for 18 servings',\n",
       "       'for 8 pancakes', 'for 30 servings', 'for 48 boeregs',\n",
       "       'for 6 berries', 'for 3 cups', 'for 12 ice pops',\n",
       "       'for 10 fruit leathers', 'for 3 pounds', 'for 15 sticks',\n",
       "       'for 6 pops', 'for 12 slices', 'for 6 serving', 'for 4 cups',\n",
       "       'for 4 (8-ounce) half pint jars', 'for 48 small puffs',\n",
       "       'for 24 ounces', 'for 7 half-pint jars', 'for 32 servings',\n",
       "       'for 1 quart', 'for 6 (16-ounce) jars', 'for 1 cocktail',\n",
       "       'for 5 (8-ounce) half-pint jars', 'for 4 mini loaves',\n",
       "       'for 7 servings', 'for 32 bars', 'for 4 8 ounce half pint jars',\n",
       "       'for 4 pizzas', 'for 1 jar', 'for 8 bags', 'for 12 muffins',\n",
       "       'for 1 parfait', 'for 12 crostinis', 'for 1 7-inch round cake',\n",
       "       'for 6 pumpkins', 'for 8 Tacos', 'for 24 small waffles',\n",
       "       'for 48 cubes', 'for 48 servings', 'for 18 knots',\n",
       "       'for 36 servings', 'for 20 balls', 'for 12 pieces', 'for 1 1',\n",
       "       'for 12 deviled eggs', 'for 3 Servings', 'for 24 cookies',\n",
       "       'for 2 quarts'], dtype=object)"
      ]
     },
     "execution_count": 22,
     "metadata": {},
     "output_type": "execute_result"
    }
   ],
   "source": [
    "df['servings'].unique()"
   ]
  },
  {
   "cell_type": "markdown",
   "id": "14f85a74",
   "metadata": {},
   "source": [
    "All the items start with 'for ' and all the items have only one number in them. So we just extract that number using re"
   ]
  },
  {
   "cell_type": "code",
   "execution_count": 23,
   "id": "9ea74829",
   "metadata": {},
   "outputs": [
    {
     "name": "stdout",
     "output_type": "stream",
     "text": [
      "1\n",
      "24\n"
     ]
    }
   ],
   "source": [
    "def get_servings(string):\n",
    "    temp = re.findall(r'\\d+', string)\n",
    "    res = list(map(int, temp))\n",
    "    # get the first number (the only number)\n",
    "    return res[0]\n",
    "\n",
    "# testing our function\n",
    "print(get_servings('for 1 serving'))\n",
    "print(get_servings('for 24 bars'))"
   ]
  },
  {
   "cell_type": "code",
   "execution_count": 24,
   "id": "4a30e3fe",
   "metadata": {},
   "outputs": [
    {
     "data": {
      "text/plain": [
       "0    1\n",
       "1    8\n",
       "2    8\n",
       "3    4\n",
       "4    1\n",
       "Name: servings, dtype: int64"
      ]
     },
     "execution_count": 24,
     "metadata": {},
     "output_type": "execute_result"
    }
   ],
   "source": [
    "df['servings'] = df['servings'].apply(get_servings)\n",
    "\n",
    "df['servings'].head()"
   ]
  },
  {
   "cell_type": "code",
   "execution_count": 25,
   "id": "528bab72",
   "metadata": {},
   "outputs": [
    {
     "data": {
      "text/plain": [
       "82"
      ]
     },
     "execution_count": 25,
     "metadata": {},
     "output_type": "execute_result"
    }
   ],
   "source": [
    "df['nutritions'].isnull().sum()"
   ]
  },
  {
   "cell_type": "markdown",
   "id": "284da658",
   "metadata": {},
   "source": [
    "we create 6 different columns from the nutritions column. Fortunately, except for the missing values in this column, every other item has information about all these 6 nutrients. namely,\n",
    "- calories\n",
    "- fat\n",
    "- carbs\n",
    "- fiber\n",
    "- sugar\n",
    "- protein\n",
    "\n",
    "So if we extract all the number in an item, we get 6. So we assign them to these 6 nutrients (remember the order matters)"
   ]
  },
  {
   "cell_type": "code",
   "execution_count": 26,
   "id": "24baaddb",
   "metadata": {},
   "outputs": [],
   "source": [
    "def get_calories(string):\n",
    "    if pd.isnull(string):  # Check if the value is NaN\n",
    "        return None\n",
    "    temp = re.findall(r'\\d+', string)\n",
    "    res = list(map(int, temp))\n",
    "    return res[0]\n",
    "\n",
    "def get_fat(string):\n",
    "    if pd.isnull(string):  # Check if the value is NaN\n",
    "        return None\n",
    "    temp = re.findall(r'\\d+', string)\n",
    "    res = list(map(int, temp))\n",
    "    return res[1]\n",
    "\n",
    "\n",
    "def get_carbs(string):\n",
    "    if pd.isnull(string):  # Check if the value is NaN\n",
    "        return None\n",
    "    temp = re.findall(r'\\d+', string)\n",
    "    res = list(map(int, temp))\n",
    "    return res[2]\n",
    "\n",
    "\n",
    "def get_fiber(string):\n",
    "    if pd.isnull(string):  # Check if the value is NaN\n",
    "        return None\n",
    "    temp = re.findall(r'\\d+', string)\n",
    "    res = list(map(int, temp))\n",
    "    return res[3]\n",
    "\n",
    "def get_sugar(string):\n",
    "    if pd.isnull(string):  # Check if the value is NaN\n",
    "        return None\n",
    "    temp = re.findall(r'\\d+', string)\n",
    "    res = list(map(int, temp))\n",
    "    return res[4]\n",
    "\n",
    "\n",
    "def get_protein(string):\n",
    "    if pd.isnull(string):  # Check if the value is NaN\n",
    "        return None\n",
    "    temp = re.findall(r'\\d+', string)\n",
    "    res = list(map(int, temp))\n",
    "    return res[5]\n"
   ]
  },
  {
   "cell_type": "code",
   "execution_count": 27,
   "id": "63ff4263",
   "metadata": {},
   "outputs": [],
   "source": [
    "df['calories'] = df['nutritions'].apply(get_calories)\n",
    "df['fat'] = df['nutritions'].apply(get_fat)\n",
    "df['carbs'] = df['nutritions'].apply(get_carbs)\n",
    "df['fiber'] = df['nutritions'].apply(get_fiber)\n",
    "df['sugar'] = df['nutritions'].apply(get_sugar)\n",
    "df['protein'] = df['nutritions'].apply(get_protein)"
   ]
  },
  {
   "cell_type": "code",
   "execution_count": 28,
   "id": "eeba91e0",
   "metadata": {},
   "outputs": [
    {
     "data": {
      "text/plain": [
       "Index(['name', 'likes', 'time', 'servings', 'ingredients', 'nutritions',\n",
       "       'link', 'calories', 'fat', 'carbs', 'fiber', 'sugar', 'protein'],\n",
       "      dtype='object')"
      ]
     },
     "execution_count": 28,
     "metadata": {},
     "output_type": "execute_result"
    }
   ],
   "source": [
    "df.columns"
   ]
  },
  {
   "cell_type": "code",
   "execution_count": 29,
   "id": "65d290e6",
   "metadata": {},
   "outputs": [],
   "source": [
    "# now that this column is useless, drop it\n",
    "df.drop(['nutritions'], axis = 1, inplace=True)"
   ]
  },
  {
   "cell_type": "code",
   "execution_count": 30,
   "id": "f696f0ed",
   "metadata": {},
   "outputs": [
    {
     "data": {
      "text/plain": [
       "0     5\n",
       "1    20\n",
       "2     5\n",
       "3     6\n",
       "4     3\n",
       "Name: no_ing, dtype: int64"
      ]
     },
     "execution_count": 30,
     "metadata": {},
     "output_type": "execute_result"
    }
   ],
   "source": [
    "# creating number_of_ingredients column\n",
    "def get_no_of_ingredients(string):\n",
    "    return len(string.split('; '))\n",
    "\n",
    "df['no_ing'] = df['ingredients'].apply(get_no_of_ingredients)\n",
    "df['no_ing'].head()"
   ]
  },
  {
   "cell_type": "code",
   "execution_count": 31,
   "id": "33444601",
   "metadata": {},
   "outputs": [
    {
     "data": {
      "text/plain": [
       "60"
      ]
     },
     "execution_count": 31,
     "metadata": {},
     "output_type": "execute_result"
    }
   ],
   "source": [
    "df['no_ing'].max()"
   ]
  },
  {
   "cell_type": "code",
   "execution_count": 32,
   "id": "6b6b9aa1",
   "metadata": {},
   "outputs": [
    {
     "data": {
      "text/plain": [
       "name             0\n",
       "likes          170\n",
       "time           404\n",
       "servings         0\n",
       "ingredients      0\n",
       "link             0\n",
       "calories        82\n",
       "fat             82\n",
       "carbs           82\n",
       "fiber           82\n",
       "sugar           82\n",
       "protein         82\n",
       "no_ing           0\n",
       "dtype: int64"
      ]
     },
     "execution_count": 32,
     "metadata": {},
     "output_type": "execute_result"
    }
   ],
   "source": [
    "df.isnull().sum()"
   ]
  },
  {
   "cell_type": "markdown",
   "id": "d9b6f7bf",
   "metadata": {},
   "source": [
    "### Handling Missing Values"
   ]
  },
  {
   "cell_type": "markdown",
   "id": "fcc76103",
   "metadata": {},
   "source": [
    "#### Time"
   ]
  },
  {
   "cell_type": "markdown",
   "id": "71591383",
   "metadata": {},
   "source": [
    "About half the values are missing in this column. We check if there is a strong correlation between any other feature and time. if so, it might help us fill the missing values in this column"
   ]
  },
  {
   "cell_type": "markdown",
   "id": "4911904a",
   "metadata": {},
   "source": [
    "time vs servings"
   ]
  },
  {
   "cell_type": "code",
   "execution_count": 33,
   "id": "54d92cd3",
   "metadata": {},
   "outputs": [
    {
     "data": {
      "image/png": "[encoded data removed]",
      "text/plain": [
       "<Figure size 640x480 with 1 Axes>"
      ]
     },
     "metadata": {},
     "output_type": "display_data"
    }
   ],
   "source": [
    "\n",
    "sns.scatterplot(x='servings', y='time', data=df)\n",
    "plt.show()"
   ]
  },
  {
   "cell_type": "code",
   "execution_count": 34,
   "id": "86cba24a",
   "metadata": {},
   "outputs": [
    {
     "data": {
      "image/png": "[encoded data removed]",
      "text/plain": [
       "<Figure size 640x480 with 1 Axes>"
      ]
     },
     "metadata": {},
     "output_type": "display_data"
    }
   ],
   "source": [
    "sns.scatterplot(x='no_ing', y='time', data=df)\n",
    "plt.show()"
   ]
  },
  {
   "cell_type": "markdown",
   "id": "d2df09b0",
   "metadata": {},
   "source": [
    "These is no good relationship with time. So this method is not good"
   ]
  },
  {
   "cell_type": "code",
   "execution_count": 35,
   "id": "f1b5a37e",
   "metadata": {},
   "outputs": [
    {
     "data": {
      "text/plain": [
       "0    30.0\n",
       "dtype: float64"
      ]
     },
     "execution_count": 35,
     "metadata": {},
     "output_type": "execute_result"
    }
   ],
   "source": [
    "# mode of the time column\n",
    "df['time'].mode()"
   ]
  },
  {
   "cell_type": "code",
   "execution_count": 36,
   "id": "c41db457",
   "metadata": {},
   "outputs": [
    {
     "data": {
      "text/plain": [
       "35.63576158940398"
      ]
     },
     "execution_count": 36,
     "metadata": {},
     "output_type": "execute_result"
    }
   ],
   "source": [
    "# mean of the time column\n",
    "df['time'].mean()"
   ]
  },
  {
   "cell_type": "markdown",
   "id": "1065ff2c",
   "metadata": {},
   "source": [
    "What if we could build a regression model for the part of the dataframe with no missing values and the target column as 'time'?\n",
    "\n",
    "Here, we check how good the predictions would be if we did that. If we have a good result, we can fill the missing values with its predictions"
   ]
  },
  {
   "cell_type": "code",
   "execution_count": 37,
   "id": "82ccac58",
   "metadata": {},
   "outputs": [
    {
     "data": {
      "text/plain": [
       "-1.0103626837789026"
      ]
     },
     "execution_count": 37,
     "metadata": {},
     "output_type": "execute_result"
    }
   ],
   "source": [
    "# from sklearn.model_selection import train_test_split\n",
    "# from sklearn.ensemble import RandomForestRegressor\n",
    "# from sklearn.metrics import r2_score\n",
    "\n",
    "# time_df = df.dropna()\n",
    "\n",
    "# time_x = time_df.drop(['time', 'name', 'ingredients', 'link'], axis=1)\n",
    "# time_y = time_df.time\n",
    "\n",
    "# time_xtrain, time_xtest, time_ytrain, time_ytest = train_test_split(time_x, time_y, test_size=0.1)\n",
    "\n",
    "# model = RandomForestRegressor()\n",
    "# model.fit(time_xtrain, time_ytrain)\n",
    "\n",
    "# score = r2_score(model.predict(time_xtest), time_ytest)\n",
    "# score\n"
   ]
  },
  {
   "cell_type": "markdown",
   "id": "7aaed4cf",
   "metadata": {},
   "source": [
    "okay that's too bad. Let's just forget about this"
   ]
  },
  {
   "cell_type": "code",
   "execution_count": 38,
   "id": "a1670404",
   "metadata": {},
   "outputs": [
    {
     "data": {
      "text/plain": [
       "0"
      ]
     },
     "execution_count": 38,
     "metadata": {},
     "output_type": "execute_result"
    }
   ],
   "source": [
    "# filling the missing values in the 'time' column with the mode\n",
    "\n",
    "df['time'] = df['time'].fillna(df['time'].mode()[0])\n",
    "df['time'].isnull().sum()\n"
   ]
  },
  {
   "cell_type": "markdown",
   "id": "e1494d8c",
   "metadata": {},
   "source": [
    "Handling missing values of the 6 nutrients columns"
   ]
  },
  {
   "cell_type": "markdown",
   "id": "a3348080",
   "metadata": {},
   "source": [
    "Checking the correlation between these 6 features. if there's a good correlation, we can use that to fill the missing values"
   ]
  },
  {
   "cell_type": "code",
   "execution_count": 39,
   "id": "4719ab06",
   "metadata": {},
   "outputs": [
    {
     "data": {
      "image/png": "[encoded data removed]",
      "text/plain": [
       "<Figure size 1500x1200 with 2 Axes>"
      ]
     },
     "metadata": {},
     "output_type": "display_data"
    }
   ],
   "source": [
    "df_corr = df[['calories', 'fat', 'carbs', \n",
    "              'fiber', 'sugar', 'protein']].corr()\n",
    "mask = np.triu(np.ones_like(df_corr))\n",
    "corr = df_corr.transpose()\n",
    "cmap = sns.diverging_palette(70,20,s=50, l=40, n=6,as_cmap=True)\n",
    "\n",
    "plt.figure(figsize=(15, 12))\n",
    "sns.heatmap(corr, mask=mask, cmap=cmap, annot=True)\n",
    "plt.show()"
   ]
  },
  {
   "cell_type": "markdown",
   "id": "0280054e",
   "metadata": {},
   "source": [
    "Let's test our strategy. Let's drop the rows with missing values and train a random forest model to see the accuracy of predictions. Based on these results, let's decide how to fill the missing values"
   ]
  },
  {
   "cell_type": "code",
   "execution_count": 40,
   "id": "a0e48a19",
   "metadata": {},
   "outputs": [
    {
     "name": "stdout",
     "output_type": "stream",
     "text": [
      "calories\n",
      "0.9092449260398057\n",
      "\n",
      "fat\n",
      "0.8240292709837904\n",
      "\n",
      "carbs\n",
      "0.8377987805596195\n",
      "\n",
      "fiber\n",
      "0.39857481448839305\n",
      "\n",
      "sugar\n",
      "0.3373575765046235\n",
      "\n",
      "protein\n",
      "0.01789252087474591\n",
      "\n"
     ]
    }
   ],
   "source": [
    "def get_acc(df, col):\n",
    "    cols = ['calories','fat', 'carbs', 'fiber', 'sugar', 'protein']\n",
    "    # removing the col because it's the target variable\n",
    "    cols.remove(col)\n",
    "    \n",
    "    col_df = df.dropna()\n",
    "    col_x = col_df[cols]\n",
    "    col_y = col_df[col]\n",
    "    \n",
    "    col_xtrain, col_xtest, col_ytrain, col_ytest = train_test_split(col_x, col_y, test_size=0.2, random_state=1)\n",
    "    \n",
    "    model = RandomForestRegressor()\n",
    "    model.fit(col_xtrain, col_ytrain)\n",
    "    \n",
    "    score = r2_score(model.predict(col_xtest), col_ytest)\n",
    "    return score\n",
    "\n",
    "cols = ['calories','fat', 'carbs', 'fiber', 'sugar', 'protein']\n",
    "for col in cols:\n",
    "    print(col)\n",
    "    print(get_acc(df, col))\n",
    "    print()\n",
    "    "
   ]
  },
  {
   "cell_type": "markdown",
   "id": "76b3dfba",
   "metadata": {},
   "source": [
    "calories, fat and carbs have good accuracy"
   ]
  },
  {
   "cell_type": "code",
   "execution_count": 41,
   "id": "07118007",
   "metadata": {},
   "outputs": [],
   "source": [
    "cols = ['calories', 'fat', 'carbs']"
   ]
  },
  {
   "cell_type": "code",
   "execution_count": 42,
   "id": "edfe9c29",
   "metadata": {},
   "outputs": [],
   "source": [
    "from sklearn.ensemble import RandomForestRegressor\n",
    "from sklearn.model_selection import train_test_split\n",
    "from sklearn.metrics import r2_score\n",
    "import numpy as np\n",
    "from sklearn.impute import SimpleImputer\n",
    "\n",
    "def fill_missing(df, col):\n",
    "    # Separate data with and without missing values for the target column\n",
    "    missing_data = df[df[col].isnull()]\n",
    "    valid_data = df.dropna(subset=[col])\n",
    "    \n",
    "    # Prepare data for training\n",
    "    cols = ['calories','fat', 'carbs', 'fiber', 'sugar', 'protein']\n",
    "    cols.remove(col)\n",
    "    \n",
    "    # Impute missing values in features\n",
    "    imputer = SimpleImputer(strategy='median')  # You can choose 'mean', 'median', or 'most_frequent'\n",
    "    imputed_data = imputer.fit_transform(valid_data[cols])\n",
    "    valid_data_imputed = pd.DataFrame(imputed_data, columns=cols)\n",
    "    \n",
    "    # Train the model\n",
    "    model = RandomForestRegressor()\n",
    "    model.fit(valid_data_imputed, valid_data[col])\n",
    "    \n",
    "    # Predict missing values\n",
    "    imputed_missing_data = imputer.transform(missing_data[cols])\n",
    "    missing_data_imputed = pd.DataFrame(imputed_missing_data, columns=cols)\n",
    "    missing_data['predicted_' + col] = model.predict(missing_data_imputed)\n",
    "    \n",
    "    # Replace missing values with predicted values\n",
    "    df.loc[df[col].isnull(), col] = missing_data['predicted_' + col]\n",
    "    \n",
    "    return df\n",
    "\n",
    "# Assuming df is your DataFrame\n",
    "for col in cols:\n",
    "    df = fill_missing(df, col)\n"
   ]
  },
  {
   "cell_type": "code",
   "execution_count": 43,
   "id": "858288da",
   "metadata": {},
   "outputs": [
    {
     "data": {
      "text/plain": [
       "name             0\n",
       "likes          170\n",
       "time             0\n",
       "servings         0\n",
       "ingredients      0\n",
       "link             0\n",
       "calories         0\n",
       "fat              0\n",
       "carbs            0\n",
       "fiber           82\n",
       "sugar           82\n",
       "protein         82\n",
       "no_ing           0\n",
       "dtype: int64"
      ]
     },
     "execution_count": 43,
     "metadata": {},
     "output_type": "execute_result"
    }
   ],
   "source": [
    "df.isnull().sum()"
   ]
  },
  {
   "cell_type": "markdown",
   "id": "83e911ad",
   "metadata": {},
   "source": [
    "For the rest of the columns, let's fill the missing values with the mode of it"
   ]
  },
  {
   "cell_type": "code",
   "execution_count": 44,
   "id": "8006c772",
   "metadata": {},
   "outputs": [],
   "source": [
    "df['fiber'].fillna(df['fiber'].mode()[0], inplace=True)\n",
    "df['sugar'].fillna(df['sugar'].mode()[0], inplace=True)\n",
    "df['protein'].fillna(df['protein'].mode()[0], inplace=True)"
   ]
  },
  {
   "cell_type": "code",
   "execution_count": 45,
   "id": "a2458820",
   "metadata": {},
   "outputs": [
    {
     "data": {
      "text/plain": [
       "name             0\n",
       "likes          170\n",
       "time             0\n",
       "servings         0\n",
       "ingredients      0\n",
       "link             0\n",
       "calories         0\n",
       "fat              0\n",
       "carbs            0\n",
       "fiber            0\n",
       "sugar            0\n",
       "protein          0\n",
       "no_ing           0\n",
       "dtype: int64"
      ]
     },
     "execution_count": 45,
     "metadata": {},
     "output_type": "execute_result"
    }
   ],
   "source": [
    "df.isnull().sum()"
   ]
  },
  {
   "cell_type": "code",
   "execution_count": 54,
   "id": "f8f7df29",
   "metadata": {},
   "outputs": [
    {
     "data": {
      "text/plain": [
       "0    0.96\n",
       "dtype: float64"
      ]
     },
     "execution_count": 54,
     "metadata": {},
     "output_type": "execute_result"
    }
   ],
   "source": [
    "df['likes'].mode()"
   ]
  },
  {
   "cell_type": "code",
   "execution_count": 55,
   "id": "d23f9b8c",
   "metadata": {},
   "outputs": [
    {
     "data": {
      "text/plain": [
       "0.9"
      ]
     },
     "execution_count": 55,
     "metadata": {},
     "output_type": "execute_result"
    }
   ],
   "source": [
    "df['likes'].median()"
   ]
  },
  {
   "cell_type": "code",
   "execution_count": 56,
   "id": "c17c77fd",
   "metadata": {},
   "outputs": [],
   "source": [
    "df['likes'].fillna(df['likes'].median(), inplace=True)"
   ]
  },
  {
   "cell_type": "code",
   "execution_count": 58,
   "id": "2cbc2bc9",
   "metadata": {},
   "outputs": [
    {
     "data": {
      "text/plain": [
       "0"
      ]
     },
     "execution_count": 58,
     "metadata": {},
     "output_type": "execute_result"
    }
   ],
   "source": [
    "df.isnull().sum().sum()"
   ]
  },
  {
   "cell_type": "code",
   "execution_count": 46,
   "id": "ba97380f",
   "metadata": {},
   "outputs": [],
   "source": [
    "soy_keywords = ['soy', 'tofu', 'tempeh', 'soybean', 'soya']\n",
    "\n",
    "# returns true if soy is in ingredients list else 0\n",
    "def contains_soy(string):\n",
    "    for soy in soy_keywords:\n",
    "        if soy in string.lower():\n",
    "            return 1\n",
    "    return 0\n",
    "\n",
    "df['contains_soy'] = df['ingredients'].apply(contains_soy)"
   ]
  },
  {
   "cell_type": "markdown",
   "id": "af0ba469",
   "metadata": {},
   "source": [
    "glutten allergies:\n",
    "\n",
    "- Wheat\n",
    "- Barley\n",
    "- Rye\n",
    "- Triticale\n",
    "- Bulgur\n",
    "- Couscous\n",
    "- Farina\n",
    "- Graham flour\n",
    "- Semolina\n",
    "- Spelt\n",
    "- Kamut\n",
    "- Wheat germ\n",
    "- Wheat bran\n",
    "- Malt\n",
    "- Brewer's yeast"
   ]
  },
  {
   "cell_type": "code",
   "execution_count": 47,
   "id": "3e613185",
   "metadata": {},
   "outputs": [],
   "source": [
    "glutten_keywords = ['wheat', 'barley', 'rye', \n",
    "                    'Triticale', 'Bulgur','Couscous', \n",
    "                    'Farina', 'Graham', 'Semolina',\n",
    "                    'Spelt', 'Kamut', 'Malt',\n",
    "                   'all-purpose flour']\n",
    "                    \n",
    "def contains_glutten(string):\n",
    "    for glutten in glutten_keywords:\n",
    "        if glutten.lower() in string.lower():\n",
    "            return 1\n",
    "    return 0\n",
    "\n",
    "df['contains_glutten'] = df['ingredients'].apply(contains_glutten)"
   ]
  },
  {
   "cell_type": "code",
   "execution_count": 108,
   "id": "f22f83f0",
   "metadata": {
    "collapsed": true
   },
   "outputs": [
    {
     "data": {
      "text/html": [
       "<div>\n",
       "<style scoped>\n",
       "    .dataframe tbody tr th:only-of-type {\n",
       "        vertical-align: middle;\n",
       "    }\n",
       "\n",
       "    .dataframe tbody tr th {\n",
       "        vertical-align: top;\n",
       "    }\n",
       "\n",
       "    .dataframe thead th {\n",
       "        text-align: right;\n",
       "    }\n",
       "</style>\n",
       "<table border=\"1\" class=\"dataframe\">\n",
       "  <thead>\n",
       "    <tr style=\"text-align: right;\">\n",
       "      <th></th>\n",
       "      <th>name</th>\n",
       "      <th>likes</th>\n",
       "      <th>time</th>\n",
       "      <th>servings</th>\n",
       "      <th>ingredients</th>\n",
       "      <th>link</th>\n",
       "      <th>calories</th>\n",
       "      <th>fat</th>\n",
       "      <th>carbs</th>\n",
       "      <th>fiber</th>\n",
       "      <th>sugar</th>\n",
       "      <th>protein</th>\n",
       "      <th>no_ing</th>\n",
       "      <th>contains_soy</th>\n",
       "      <th>contains_glutten</th>\n",
       "    </tr>\n",
       "  </thead>\n",
       "  <tbody>\n",
       "    <tr>\n",
       "      <th>11</th>\n",
       "      <td>Avocado Quinoa Power Salad</td>\n",
       "      <td>0.95</td>\n",
       "      <td>30.0</td>\n",
       "      <td>6</td>\n",
       "      <td>2 cups water (480 mL); salt, to taste; 1 cup q...</td>\n",
       "      <td>https://tasty.co/recipe/avocado-quinoa-power-s...</td>\n",
       "      <td>221.00</td>\n",
       "      <td>11.0</td>\n",
       "      <td>25.00</td>\n",
       "      <td>6.0</td>\n",
       "      <td>1.0</td>\n",
       "      <td>5.0</td>\n",
       "      <td>10</td>\n",
       "      <td>0</td>\n",
       "      <td>0</td>\n",
       "    </tr>\n",
       "    <tr>\n",
       "      <th>81</th>\n",
       "      <td>Slow-Cooker Applesauce And Apple Butter</td>\n",
       "      <td>0.97</td>\n",
       "      <td>30.0</td>\n",
       "      <td>10</td>\n",
       "      <td>12 red apples, combination of gala, honeycrip,...</td>\n",
       "      <td>https://tasty.co/recipe/slow-cooker-applesauce...</td>\n",
       "      <td>189.00</td>\n",
       "      <td>0.0</td>\n",
       "      <td>50.00</td>\n",
       "      <td>8.0</td>\n",
       "      <td>37.0</td>\n",
       "      <td>1.0</td>\n",
       "      <td>8</td>\n",
       "      <td>0</td>\n",
       "      <td>0</td>\n",
       "    </tr>\n",
       "    <tr>\n",
       "      <th>84</th>\n",
       "      <td>Spicy Roasted Chickpeas</td>\n",
       "      <td>0.91</td>\n",
       "      <td>30.0</td>\n",
       "      <td>1</td>\n",
       "      <td>15 oz chickpeas (425 g), 1 can, drained and ri...</td>\n",
       "      <td>https://tasty.co/recipe/spicy-roasted-chickpeas</td>\n",
       "      <td>737.00</td>\n",
       "      <td>15.0</td>\n",
       "      <td>115.00</td>\n",
       "      <td>34.0</td>\n",
       "      <td>20.0</td>\n",
       "      <td>38.0</td>\n",
       "      <td>6</td>\n",
       "      <td>0</td>\n",
       "      <td>0</td>\n",
       "    </tr>\n",
       "    <tr>\n",
       "      <th>31</th>\n",
       "      <td>Banana Berry Nice Cream</td>\n",
       "      <td>0.92</td>\n",
       "      <td>30.0</td>\n",
       "      <td>4</td>\n",
       "      <td>3 bananas; ½ cup frozen mixed berry (75 g); 1 ...</td>\n",
       "      <td>https://tasty.co/recipe/banana-berry-nice-cream</td>\n",
       "      <td>116.00</td>\n",
       "      <td>0.0</td>\n",
       "      <td>28.00</td>\n",
       "      <td>3.0</td>\n",
       "      <td>14.0</td>\n",
       "      <td>1.0</td>\n",
       "      <td>4</td>\n",
       "      <td>0</td>\n",
       "      <td>0</td>\n",
       "    </tr>\n",
       "    <tr>\n",
       "      <th>76</th>\n",
       "      <td>Lentil Soup</td>\n",
       "      <td>0.96</td>\n",
       "      <td>30.0</td>\n",
       "      <td>5</td>\n",
       "      <td>2 tablespoons olive oil; 1 medium yellow onion...</td>\n",
       "      <td>https://tasty.co/recipe/lentil-soup</td>\n",
       "      <td>370.00</td>\n",
       "      <td>2.0</td>\n",
       "      <td>68.00</td>\n",
       "      <td>10.0</td>\n",
       "      <td>7.0</td>\n",
       "      <td>21.0</td>\n",
       "      <td>12</td>\n",
       "      <td>0</td>\n",
       "      <td>0</td>\n",
       "    </tr>\n",
       "    <tr>\n",
       "      <th>84</th>\n",
       "      <td>Vegan Pumpkin Cupcakes With Maple Frosting</td>\n",
       "      <td>0.94</td>\n",
       "      <td>30.0</td>\n",
       "      <td>12</td>\n",
       "      <td>¾ cup organic dark brown sugar (165 g); ¼ cup ...</td>\n",
       "      <td>https://tasty.co/recipe/vegan-pumpkin-cupcakes...</td>\n",
       "      <td>384.00</td>\n",
       "      <td>21.0</td>\n",
       "      <td>45.00</td>\n",
       "      <td>0.0</td>\n",
       "      <td>34.0</td>\n",
       "      <td>1.0</td>\n",
       "      <td>16</td>\n",
       "      <td>0</td>\n",
       "      <td>1</td>\n",
       "    </tr>\n",
       "    <tr>\n",
       "      <th>25</th>\n",
       "      <td>Vegan Snowflake Sugar Cookies</td>\n",
       "      <td>0.90</td>\n",
       "      <td>30.0</td>\n",
       "      <td>12</td>\n",
       "      <td>½ cup organic sugar (100 g); ¾ cup refined coc...</td>\n",
       "      <td>https://tasty.co/recipe/vegan-snowflake-sugar-...</td>\n",
       "      <td>367.00</td>\n",
       "      <td>13.0</td>\n",
       "      <td>59.00</td>\n",
       "      <td>0.0</td>\n",
       "      <td>40.0</td>\n",
       "      <td>2.0</td>\n",
       "      <td>12</td>\n",
       "      <td>0</td>\n",
       "      <td>1</td>\n",
       "    </tr>\n",
       "    <tr>\n",
       "      <th>50</th>\n",
       "      <td>Veggie-Packed Chow Mein</td>\n",
       "      <td>0.96</td>\n",
       "      <td>25.0</td>\n",
       "      <td>4</td>\n",
       "      <td>2 tablespoons cooking oil, divided; 1 package ...</td>\n",
       "      <td>https://tasty.co/recipe/veggie-packed-chow-mein</td>\n",
       "      <td>356.00</td>\n",
       "      <td>9.0</td>\n",
       "      <td>59.00</td>\n",
       "      <td>6.0</td>\n",
       "      <td>9.0</td>\n",
       "      <td>11.0</td>\n",
       "      <td>22</td>\n",
       "      <td>1</td>\n",
       "      <td>0</td>\n",
       "    </tr>\n",
       "    <tr>\n",
       "      <th>9</th>\n",
       "      <td>Butternut Squash Fries</td>\n",
       "      <td>0.91</td>\n",
       "      <td>30.0</td>\n",
       "      <td>8</td>\n",
       "      <td>1 butternut squash; 1 tablespoon olive oil; 1 ...</td>\n",
       "      <td>https://tasty.co/recipe/butternut-squash-fries</td>\n",
       "      <td>222.93</td>\n",
       "      <td>2.9</td>\n",
       "      <td>40.07</td>\n",
       "      <td>1.0</td>\n",
       "      <td>5.0</td>\n",
       "      <td>2.0</td>\n",
       "      <td>5</td>\n",
       "      <td>0</td>\n",
       "      <td>0</td>\n",
       "    </tr>\n",
       "    <tr>\n",
       "      <th>40</th>\n",
       "      <td>Garlic Veggie Rotini Pasta</td>\n",
       "      <td>0.94</td>\n",
       "      <td>30.0</td>\n",
       "      <td>3</td>\n",
       "      <td>2 tablespoons oil; 2 cups sliced mushrooms (15...</td>\n",
       "      <td>https://tasty.co/recipe/garlic-veggie-rotini-p...</td>\n",
       "      <td>186.00</td>\n",
       "      <td>2.0</td>\n",
       "      <td>37.00</td>\n",
       "      <td>7.0</td>\n",
       "      <td>6.0</td>\n",
       "      <td>9.0</td>\n",
       "      <td>9</td>\n",
       "      <td>0</td>\n",
       "      <td>0</td>\n",
       "    </tr>\n",
       "  </tbody>\n",
       "</table>\n",
       "</div>"
      ],
      "text/plain": [
       "                                          name  likes  time  servings  \\\n",
       "11                  Avocado Quinoa Power Salad   0.95  30.0         6   \n",
       "81     Slow-Cooker Applesauce And Apple Butter   0.97  30.0        10   \n",
       "84                     Spicy Roasted Chickpeas   0.91  30.0         1   \n",
       "31                     Banana Berry Nice Cream   0.92  30.0         4   \n",
       "76                                 Lentil Soup   0.96  30.0         5   \n",
       "84  Vegan Pumpkin Cupcakes With Maple Frosting   0.94  30.0        12   \n",
       "25               Vegan Snowflake Sugar Cookies   0.90  30.0        12   \n",
       "50                     Veggie-Packed Chow Mein   0.96  25.0         4   \n",
       "9                       Butternut Squash Fries   0.91  30.0         8   \n",
       "40                  Garlic Veggie Rotini Pasta   0.94  30.0         3   \n",
       "\n",
       "                                          ingredients  \\\n",
       "11  2 cups water (480 mL); salt, to taste; 1 cup q...   \n",
       "81  12 red apples, combination of gala, honeycrip,...   \n",
       "84  15 oz chickpeas (425 g), 1 can, drained and ri...   \n",
       "31  3 bananas; ½ cup frozen mixed berry (75 g); 1 ...   \n",
       "76  2 tablespoons olive oil; 1 medium yellow onion...   \n",
       "84  ¾ cup organic dark brown sugar (165 g); ¼ cup ...   \n",
       "25  ½ cup organic sugar (100 g); ¾ cup refined coc...   \n",
       "50  2 tablespoons cooking oil, divided; 1 package ...   \n",
       "9   1 butternut squash; 1 tablespoon olive oil; 1 ...   \n",
       "40  2 tablespoons oil; 2 cups sliced mushrooms (15...   \n",
       "\n",
       "                                                 link  calories   fat   carbs  \\\n",
       "11  https://tasty.co/recipe/avocado-quinoa-power-s...    221.00  11.0   25.00   \n",
       "81  https://tasty.co/recipe/slow-cooker-applesauce...    189.00   0.0   50.00   \n",
       "84    https://tasty.co/recipe/spicy-roasted-chickpeas    737.00  15.0  115.00   \n",
       "31    https://tasty.co/recipe/banana-berry-nice-cream    116.00   0.0   28.00   \n",
       "76                https://tasty.co/recipe/lentil-soup    370.00   2.0   68.00   \n",
       "84  https://tasty.co/recipe/vegan-pumpkin-cupcakes...    384.00  21.0   45.00   \n",
       "25  https://tasty.co/recipe/vegan-snowflake-sugar-...    367.00  13.0   59.00   \n",
       "50    https://tasty.co/recipe/veggie-packed-chow-mein    356.00   9.0   59.00   \n",
       "9      https://tasty.co/recipe/butternut-squash-fries    222.93   2.9   40.07   \n",
       "40  https://tasty.co/recipe/garlic-veggie-rotini-p...    186.00   2.0   37.00   \n",
       "\n",
       "    fiber  sugar  protein  no_ing  contains_soy  contains_glutten  \n",
       "11    6.0    1.0      5.0      10             0                 0  \n",
       "81    8.0   37.0      1.0       8             0                 0  \n",
       "84   34.0   20.0     38.0       6             0                 0  \n",
       "31    3.0   14.0      1.0       4             0                 0  \n",
       "76   10.0    7.0     21.0      12             0                 0  \n",
       "84    0.0   34.0      1.0      16             0                 1  \n",
       "25    0.0   40.0      2.0      12             0                 1  \n",
       "50    6.0    9.0     11.0      22             1                 0  \n",
       "9     1.0    5.0      2.0       5             0                 0  \n",
       "40    7.0    6.0      9.0       9             0                 0  "
      ]
     },
     "execution_count": 108,
     "metadata": {},
     "output_type": "execute_result"
    }
   ],
   "source": [
    "df.sample(10)"
   ]
  },
  {
   "cell_type": "code",
   "execution_count": 48,
   "id": "9374bf2f",
   "metadata": {},
   "outputs": [
    {
     "data": {
      "text/plain": [
       "0      2 tablespoons hot water (28 g); 2 tablespoons ...\n",
       "1      2 eggplants; 6 roma tomatoes; 2 yellow squashe...\n",
       "2      2 cups lukewarm water (480 mL), between 90˚-11...\n",
       "3      salt, to taste; ½ lb spaghetti (225 g); 3 tabl...\n",
       "4      ½ cup rolled oats (50 g); 1 banana; 1 cup milk...\n",
       "                             ...                        \n",
       "115    crushed ice; 4 cups ice cube (560 g); 1 oz hon...\n",
       "116    10 mejdool dates, pitted; ¼ cup tap water (60 ...\n",
       "117    ½ cup granulated sugar (100 g); 1 Private Sele...\n",
       "118    ¾ cup strawberry (110 g), pureed; 4 tablespoon...\n",
       "119    1 ½ cups black sesame seeds (190 g); 3 tablesp...\n",
       "Name: ingredients, Length: 1008, dtype: object"
      ]
     },
     "execution_count": 48,
     "metadata": {},
     "output_type": "execute_result"
    }
   ],
   "source": [
    "df['ingredients']"
   ]
  },
  {
   "cell_type": "code",
   "execution_count": 49,
   "id": "9a4ffe4d",
   "metadata": {},
   "outputs": [],
   "source": [
    "# Predefined ingredient categories and keywords\n",
    "ingredient_categories = {\n",
    "    'fruits': ['apple', 'banana', 'orange', 'strawberry', 'kiwi', 'mango', 'blueberry', 'pineapple', 'grape', 'pear', 'watermelon', 'raspberry'],\n",
    "    'vegetables': ['carrot', 'broccoli', 'spinach', 'tomato', 'bell pepper', 'cucumber', 'lettuce', 'onion', 'zucchini', 'mushroom', 'eggplant', 'celery'],\n",
    "    'grains': ['flour', 'rice', 'quinoa', 'barley', 'oats', 'couscous', 'bulgur', 'millet', 'amaranth', 'spelt', 'farro', 'teff'],\n",
    "    'protein': ['tofu', 'tempeh', 'seitan', 'lentils', 'beans', 'chickpeas', 'edamame', 'peas', 'soybeans', 'quorn', 'textured vegetable protein', 'nuts', 'seeds'],\n",
    "    'dairy_alternatives': ['almond milk', 'soy milk', 'coconut milk', 'cashew milk', 'oat milk', 'rice milk', 'hemp milk', 'flax milk', 'macadamia milk', 'pea milk'],\n",
    "    'herbs_and_spices': ['garlic', 'ginger', 'cilantro', 'basil', 'oregano', 'thyme', 'rosemary', 'parsley', 'cumin', 'coriander', 'paprika', 'cinnamon', 'turmeric'],\n",
    "    'sweeteners': ['sugar', 'maple syrup', 'agave nectar', 'coconut sugar', 'date syrup', 'molasses', 'brown rice syrup', 'stevia', 'monk fruit sweetener'],\n",
    "    'oils': ['olive oil', 'coconut oil', 'avocado oil', 'sesame oil', 'canola oil', 'grapeseed oil', 'sunflower oil', 'peanut oil', 'vegetable oil', 'flaxseed oil'],\n",
    "    'condiments_and_sauces': ['soy sauce', 'hot sauce', 'mustard', 'ketchup', 'salsa', 'barbecue sauce', 'teriyaki sauce', 'vinegar', 'mayonnaise', 'hummus', 'pesto'],\n",
    "    'grains_and_cereals': ['bread', 'pasta', 'cereal', 'granola', 'crackers', 'tortillas', 'wraps', 'rice cakes', 'bagels', 'english muffins', 'pita bread']\n",
    "    # Add more categories and keywords as needed\n",
    "}\n"
   ]
  },
  {
   "cell_type": "code",
   "execution_count": 50,
   "id": "814106be",
   "metadata": {},
   "outputs": [],
   "source": [
    "# Create binary columns for ingredient categories\n",
    "for category in ingredient_categories.keys():\n",
    "    df[category] = df['ingredients'].apply(lambda x: any(ingredient in x for ingredient in ingredient_categories[category])).astype(int)\n"
   ]
  },
  {
   "cell_type": "code",
   "execution_count": 51,
   "id": "cb985c5c",
   "metadata": {},
   "outputs": [
    {
     "data": {
      "text/html": [
       "<div>\n",
       "<style scoped>\n",
       "    .dataframe tbody tr th:only-of-type {\n",
       "        vertical-align: middle;\n",
       "    }\n",
       "\n",
       "    .dataframe tbody tr th {\n",
       "        vertical-align: top;\n",
       "    }\n",
       "\n",
       "    .dataframe thead th {\n",
       "        text-align: right;\n",
       "    }\n",
       "</style>\n",
       "<table border=\"1\" class=\"dataframe\">\n",
       "  <thead>\n",
       "    <tr style=\"text-align: right;\">\n",
       "      <th></th>\n",
       "      <th>name</th>\n",
       "      <th>likes</th>\n",
       "      <th>time</th>\n",
       "      <th>servings</th>\n",
       "      <th>ingredients</th>\n",
       "      <th>link</th>\n",
       "      <th>calories</th>\n",
       "      <th>fat</th>\n",
       "      <th>carbs</th>\n",
       "      <th>fiber</th>\n",
       "      <th>sugar</th>\n",
       "      <th>protein</th>\n",
       "      <th>no_ing</th>\n",
       "      <th>contains_soy</th>\n",
       "      <th>contains_glutten</th>\n",
       "      <th>fruits</th>\n",
       "      <th>vegetables</th>\n",
       "      <th>grains</th>\n",
       "      <th>dairy_alternatives</th>\n",
       "      <th>herbs_and_spices</th>\n",
       "      <th>sweeteners</th>\n",
       "      <th>oils</th>\n",
       "      <th>condiments_and_sauces</th>\n",
       "      <th>grains_and_cereals</th>\n",
       "    </tr>\n",
       "  </thead>\n",
       "  <tbody>\n",
       "    <tr>\n",
       "      <th>0</th>\n",
       "      <td>Whipped Coffee</td>\n",
       "      <td>0.92</td>\n",
       "      <td>15.0</td>\n",
       "      <td>1</td>\n",
       "      <td>2 tablespoons hot water (28 g); 2 tablespoons ...</td>\n",
       "      <td>https://tasty.co/recipe/whipped-coffee</td>\n",
       "      <td>132.0</td>\n",
       "      <td>0.0</td>\n",
       "      <td>28.0</td>\n",
       "      <td>0.0</td>\n",
       "      <td>28.0</td>\n",
       "      <td>0</td>\n",
       "      <td>5</td>\n",
       "      <td>0</td>\n",
       "      <td>0</td>\n",
       "      <td>0</td>\n",
       "      <td>0</td>\n",
       "      <td>0</td>\n",
       "      <td>0</td>\n",
       "      <td>0</td>\n",
       "      <td>1</td>\n",
       "      <td>0</td>\n",
       "      <td>0</td>\n",
       "      <td>0</td>\n",
       "    </tr>\n",
       "    <tr>\n",
       "      <th>1</th>\n",
       "      <td>Ratatouille</td>\n",
       "      <td>0.95</td>\n",
       "      <td>72.0</td>\n",
       "      <td>8</td>\n",
       "      <td>2 eggplants; 6 roma tomatoes; 2 yellow squashe...</td>\n",
       "      <td>https://tasty.co/recipe/ratatouille</td>\n",
       "      <td>118.0</td>\n",
       "      <td>3.0</td>\n",
       "      <td>22.0</td>\n",
       "      <td>5.0</td>\n",
       "      <td>9.0</td>\n",
       "      <td>0</td>\n",
       "      <td>20</td>\n",
       "      <td>0</td>\n",
       "      <td>0</td>\n",
       "      <td>0</td>\n",
       "      <td>1</td>\n",
       "      <td>0</td>\n",
       "      <td>0</td>\n",
       "      <td>1</td>\n",
       "      <td>0</td>\n",
       "      <td>1</td>\n",
       "      <td>0</td>\n",
       "      <td>0</td>\n",
       "    </tr>\n",
       "    <tr>\n",
       "      <th>2</th>\n",
       "      <td>Homemade Dutch Oven Bread</td>\n",
       "      <td>0.98</td>\n",
       "      <td>30.0</td>\n",
       "      <td>8</td>\n",
       "      <td>2 cups lukewarm water (480 mL), between 90˚-11...</td>\n",
       "      <td>https://tasty.co/recipe/homemade-dutch-oven-bread</td>\n",
       "      <td>259.0</td>\n",
       "      <td>0.0</td>\n",
       "      <td>54.0</td>\n",
       "      <td>1.0</td>\n",
       "      <td>0.0</td>\n",
       "      <td>0</td>\n",
       "      <td>5</td>\n",
       "      <td>0</td>\n",
       "      <td>1</td>\n",
       "      <td>0</td>\n",
       "      <td>0</td>\n",
       "      <td>1</td>\n",
       "      <td>0</td>\n",
       "      <td>0</td>\n",
       "      <td>0</td>\n",
       "      <td>1</td>\n",
       "      <td>0</td>\n",
       "      <td>0</td>\n",
       "    </tr>\n",
       "    <tr>\n",
       "      <th>3</th>\n",
       "      <td>Spaghetti With Garlic And Oil</td>\n",
       "      <td>0.93</td>\n",
       "      <td>30.0</td>\n",
       "      <td>4</td>\n",
       "      <td>salt, to taste; ½ lb spaghetti (225 g); 3 tabl...</td>\n",
       "      <td>https://tasty.co/recipe/spaghetti-with-garlic-...</td>\n",
       "      <td>234.0</td>\n",
       "      <td>3.0</td>\n",
       "      <td>42.0</td>\n",
       "      <td>1.0</td>\n",
       "      <td>1.0</td>\n",
       "      <td>0</td>\n",
       "      <td>6</td>\n",
       "      <td>0</td>\n",
       "      <td>0</td>\n",
       "      <td>0</td>\n",
       "      <td>0</td>\n",
       "      <td>0</td>\n",
       "      <td>0</td>\n",
       "      <td>1</td>\n",
       "      <td>0</td>\n",
       "      <td>1</td>\n",
       "      <td>0</td>\n",
       "      <td>0</td>\n",
       "    </tr>\n",
       "    <tr>\n",
       "      <th>4</th>\n",
       "      <td>3-Ingredient Banana Oat Smoothie</td>\n",
       "      <td>0.93</td>\n",
       "      <td>30.0</td>\n",
       "      <td>1</td>\n",
       "      <td>½ cup rolled oats (50 g); 1 banana; 1 cup milk...</td>\n",
       "      <td>https://tasty.co/recipe/3-ingredient-banana-oa...</td>\n",
       "      <td>552.0</td>\n",
       "      <td>12.0</td>\n",
       "      <td>95.0</td>\n",
       "      <td>11.0</td>\n",
       "      <td>32.0</td>\n",
       "      <td>0</td>\n",
       "      <td>3</td>\n",
       "      <td>0</td>\n",
       "      <td>0</td>\n",
       "      <td>1</td>\n",
       "      <td>0</td>\n",
       "      <td>1</td>\n",
       "      <td>0</td>\n",
       "      <td>0</td>\n",
       "      <td>0</td>\n",
       "      <td>0</td>\n",
       "      <td>0</td>\n",
       "      <td>0</td>\n",
       "    </tr>\n",
       "  </tbody>\n",
       "</table>\n",
       "</div>"
      ],
      "text/plain": [
       "                               name  likes  time  servings  \\\n",
       "0                    Whipped Coffee   0.92  15.0         1   \n",
       "1                       Ratatouille   0.95  72.0         8   \n",
       "2         Homemade Dutch Oven Bread   0.98  30.0         8   \n",
       "3     Spaghetti With Garlic And Oil   0.93  30.0         4   \n",
       "4  3-Ingredient Banana Oat Smoothie   0.93  30.0         1   \n",
       "\n",
       "                                         ingredients  \\\n",
       "0  2 tablespoons hot water (28 g); 2 tablespoons ...   \n",
       "1  2 eggplants; 6 roma tomatoes; 2 yellow squashe...   \n",
       "2  2 cups lukewarm water (480 mL), between 90˚-11...   \n",
       "3  salt, to taste; ½ lb spaghetti (225 g); 3 tabl...   \n",
       "4  ½ cup rolled oats (50 g); 1 banana; 1 cup milk...   \n",
       "\n",
       "                                                link  calories   fat  carbs  \\\n",
       "0             https://tasty.co/recipe/whipped-coffee     132.0   0.0   28.0   \n",
       "1                https://tasty.co/recipe/ratatouille     118.0   3.0   22.0   \n",
       "2  https://tasty.co/recipe/homemade-dutch-oven-bread     259.0   0.0   54.0   \n",
       "3  https://tasty.co/recipe/spaghetti-with-garlic-...     234.0   3.0   42.0   \n",
       "4  https://tasty.co/recipe/3-ingredient-banana-oa...     552.0  12.0   95.0   \n",
       "\n",
       "   fiber  sugar  protein  no_ing  contains_soy  contains_glutten  fruits  \\\n",
       "0    0.0   28.0        0       5             0                 0       0   \n",
       "1    5.0    9.0        0      20             0                 0       0   \n",
       "2    1.0    0.0        0       5             0                 1       0   \n",
       "3    1.0    1.0        0       6             0                 0       0   \n",
       "4   11.0   32.0        0       3             0                 0       1   \n",
       "\n",
       "   vegetables  grains  dairy_alternatives  herbs_and_spices  sweeteners  oils  \\\n",
       "0           0       0                   0                 0           1     0   \n",
       "1           1       0                   0                 1           0     1   \n",
       "2           0       1                   0                 0           0     1   \n",
       "3           0       0                   0                 1           0     1   \n",
       "4           0       1                   0                 0           0     0   \n",
       "\n",
       "   condiments_and_sauces  grains_and_cereals  \n",
       "0                      0                   0  \n",
       "1                      0                   0  \n",
       "2                      0                   0  \n",
       "3                      0                   0  \n",
       "4                      0                   0  "
      ]
     },
     "execution_count": 51,
     "metadata": {},
     "output_type": "execute_result"
    }
   ],
   "source": [
    "df.head()"
   ]
  },
  {
   "cell_type": "code",
   "execution_count": 52,
   "id": "1e3b34a4",
   "metadata": {},
   "outputs": [],
   "source": [
    "df.drop(['ingredients'], axis=1, inplace=True)"
   ]
  },
  {
   "cell_type": "code",
   "execution_count": 53,
   "id": "9db24981",
   "metadata": {},
   "outputs": [
    {
     "data": {
      "text/plain": [
       "name                      object\n",
       "likes                    float64\n",
       "time                     float64\n",
       "servings                   int64\n",
       "link                      object\n",
       "calories                 float64\n",
       "fat                      float64\n",
       "carbs                    float64\n",
       "fiber                    float64\n",
       "sugar                    float64\n",
       "protein                    int64\n",
       "no_ing                     int64\n",
       "contains_soy               int64\n",
       "contains_glutten           int64\n",
       "fruits                     int64\n",
       "vegetables                 int64\n",
       "grains                     int64\n",
       "dairy_alternatives         int64\n",
       "herbs_and_spices           int64\n",
       "sweeteners                 int64\n",
       "oils                       int64\n",
       "condiments_and_sauces      int64\n",
       "grains_and_cereals         int64\n",
       "dtype: object"
      ]
     },
     "execution_count": 53,
     "metadata": {},
     "output_type": "execute_result"
    }
   ],
   "source": [
    "df.dtypes"
   ]
  },
  {
   "cell_type": "markdown",
   "id": "2ed618e5",
   "metadata": {},
   "source": [
    "Now our data is ready"
   ]
  },
  {
   "cell_type": "code",
   "execution_count": 59,
   "id": "8251573b",
   "metadata": {},
   "outputs": [],
   "source": [
    "df.to_csv('all_recipes_data.csv', index=False)"
   ]
  }
 ],
 "metadata": {
  "kernelspec": {
   "display_name": "Python 3 (ipykernel)",
   "language": "python",
   "name": "python3"
  },
  "language_info": {
   "codemirror_mode": {
    "name": "ipython",
    "version": 3
   },
   "file_extension": ".py",
   "mimetype": "text/x-python",
   "name": "python",
   "nbconvert_exporter": "python",
   "pygments_lexer": "ipython3",
   "version": "3.7.13"
  }
 },
 "nbformat": 4,
 "nbformat_minor": 5
}
